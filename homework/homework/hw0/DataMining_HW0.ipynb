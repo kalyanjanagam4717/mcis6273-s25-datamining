{
 "cells": [
  {
   "cell_type": "code",
   "execution_count": 68,
   "id": "37944690",
   "metadata": {},
   "outputs": [
    {
     "data": {
      "text/html": [
       "<div>\n",
       "<style scoped>\n",
       "    .dataframe tbody tr th:only-of-type {\n",
       "        vertical-align: middle;\n",
       "    }\n",
       "\n",
       "    .dataframe tbody tr th {\n",
       "        vertical-align: top;\n",
       "    }\n",
       "\n",
       "    .dataframe thead th {\n",
       "        text-align: right;\n",
       "    }\n",
       "</style>\n",
       "<table border=\"1\" class=\"dataframe\">\n",
       "  <thead>\n",
       "    <tr style=\"text-align: right;\">\n",
       "      <th></th>\n",
       "      <th>REF</th>\n",
       "      <th>Company (Manufacturer)</th>\n",
       "      <th>Company Location</th>\n",
       "      <th>Review Date</th>\n",
       "      <th>Country of Bean Origin</th>\n",
       "      <th>Specific Bean Origin or Bar Name</th>\n",
       "      <th>Cocoa Percent</th>\n",
       "      <th>Ingredients</th>\n",
       "      <th>Most Memorable Characteristics</th>\n",
       "      <th>Rating</th>\n",
       "    </tr>\n",
       "  </thead>\n",
       "  <tbody>\n",
       "    <tr>\n",
       "      <th>0</th>\n",
       "      <td>2454</td>\n",
       "      <td>5150</td>\n",
       "      <td>U.S.A.</td>\n",
       "      <td>2019</td>\n",
       "      <td>Madagascar</td>\n",
       "      <td>Bejofo Estate, batch 1</td>\n",
       "      <td>76%</td>\n",
       "      <td>3- B,S,C</td>\n",
       "      <td>cocoa, blackberry, full body</td>\n",
       "      <td>3.75</td>\n",
       "    </tr>\n",
       "    <tr>\n",
       "      <th>1</th>\n",
       "      <td>2458</td>\n",
       "      <td>5150</td>\n",
       "      <td>U.S.A.</td>\n",
       "      <td>2019</td>\n",
       "      <td>Dominican Republic</td>\n",
       "      <td>Zorzal, batch 1</td>\n",
       "      <td>76%</td>\n",
       "      <td>3- B,S,C</td>\n",
       "      <td>cocoa, vegetal, savory</td>\n",
       "      <td>3.50</td>\n",
       "    </tr>\n",
       "    <tr>\n",
       "      <th>2</th>\n",
       "      <td>2454</td>\n",
       "      <td>5150</td>\n",
       "      <td>U.S.A.</td>\n",
       "      <td>2019</td>\n",
       "      <td>Tanzania</td>\n",
       "      <td>Kokoa Kamili, batch 1</td>\n",
       "      <td>76%</td>\n",
       "      <td>3- B,S,C</td>\n",
       "      <td>rich cocoa, fatty, bready</td>\n",
       "      <td>3.25</td>\n",
       "    </tr>\n",
       "    <tr>\n",
       "      <th>3</th>\n",
       "      <td>2542</td>\n",
       "      <td>5150</td>\n",
       "      <td>U.S.A.</td>\n",
       "      <td>2021</td>\n",
       "      <td>India</td>\n",
       "      <td>Anamalai, batch 1</td>\n",
       "      <td>68%</td>\n",
       "      <td>3- B,S,C</td>\n",
       "      <td>milk brownie, macadamia,chewy</td>\n",
       "      <td>3.50</td>\n",
       "    </tr>\n",
       "    <tr>\n",
       "      <th>4</th>\n",
       "      <td>2546</td>\n",
       "      <td>5150</td>\n",
       "      <td>U.S.A.</td>\n",
       "      <td>2021</td>\n",
       "      <td>Uganda</td>\n",
       "      <td>Semuliki Forest, batch 1</td>\n",
       "      <td>80%</td>\n",
       "      <td>3- B,S,C</td>\n",
       "      <td>mildly bitter, basic cocoa, fatty</td>\n",
       "      <td>3.25</td>\n",
       "    </tr>\n",
       "  </tbody>\n",
       "</table>\n",
       "</div>"
      ],
      "text/plain": [
       "    REF Company (Manufacturer) Company Location  Review Date  \\\n",
       "0  2454                   5150           U.S.A.         2019   \n",
       "1  2458                   5150           U.S.A.         2019   \n",
       "2  2454                   5150           U.S.A.         2019   \n",
       "3  2542                   5150           U.S.A.         2021   \n",
       "4  2546                   5150           U.S.A.         2021   \n",
       "\n",
       "  Country of Bean Origin Specific Bean Origin or Bar Name Cocoa Percent  \\\n",
       "0             Madagascar           Bejofo Estate, batch 1           76%   \n",
       "1     Dominican Republic                  Zorzal, batch 1           76%   \n",
       "2               Tanzania            Kokoa Kamili, batch 1           76%   \n",
       "3                  India                Anamalai, batch 1           68%   \n",
       "4                 Uganda         Semuliki Forest, batch 1           80%   \n",
       "\n",
       "  Ingredients     Most Memorable Characteristics  Rating  \n",
       "0    3- B,S,C       cocoa, blackberry, full body    3.75  \n",
       "1    3- B,S,C             cocoa, vegetal, savory    3.50  \n",
       "2    3- B,S,C          rich cocoa, fatty, bready    3.25  \n",
       "3    3- B,S,C      milk brownie, macadamia,chewy    3.50  \n",
       "4    3- B,S,C  mildly bitter, basic cocoa, fatty    3.25  "
      ]
     },
     "execution_count": 68,
     "metadata": {},
     "output_type": "execute_result"
    }
   ],
   "source": [
    "import pandas as pd\n",
    "\n",
    "# Load the data\n",
    "df = pd.read_csv(\"./data/2024_flavors_of_cacoa.tsv\", sep='\\t')\n",
    "\n",
    "\n",
    "df.head()\n"
   ]
  },
  {
   "cell_type": "code",
   "execution_count": 69,
   "id": "8cc21c33",
   "metadata": {},
   "outputs": [
    {
     "data": {
      "text/html": [
       "<div>\n",
       "<style scoped>\n",
       "    .dataframe tbody tr th:only-of-type {\n",
       "        vertical-align: middle;\n",
       "    }\n",
       "\n",
       "    .dataframe tbody tr th {\n",
       "        vertical-align: top;\n",
       "    }\n",
       "\n",
       "    .dataframe thead th {\n",
       "        text-align: right;\n",
       "    }\n",
       "</style>\n",
       "<table border=\"1\" class=\"dataframe\">\n",
       "  <thead>\n",
       "    <tr style=\"text-align: right;\">\n",
       "      <th></th>\n",
       "      <th>REF</th>\n",
       "      <th>Company (Manufacturer)</th>\n",
       "      <th>Company Location</th>\n",
       "      <th>Review Date</th>\n",
       "      <th>Country of Bean Origin</th>\n",
       "      <th>Specific Bean Origin or Bar Name</th>\n",
       "      <th>Cocoa Percent</th>\n",
       "      <th>Ingredients</th>\n",
       "      <th>Most Memorable Characteristics</th>\n",
       "      <th>Rating</th>\n",
       "    </tr>\n",
       "  </thead>\n",
       "  <tbody>\n",
       "    <tr>\n",
       "      <th>0</th>\n",
       "      <td>2454</td>\n",
       "      <td>5150</td>\n",
       "      <td>U.S.A.</td>\n",
       "      <td>2019</td>\n",
       "      <td>Madagascar</td>\n",
       "      <td>Bejofo Estate, batch 1</td>\n",
       "      <td>0.76</td>\n",
       "      <td>3- B,S,C</td>\n",
       "      <td>cocoa, blackberry, full body</td>\n",
       "      <td>3.75</td>\n",
       "    </tr>\n",
       "    <tr>\n",
       "      <th>1</th>\n",
       "      <td>2458</td>\n",
       "      <td>5150</td>\n",
       "      <td>U.S.A.</td>\n",
       "      <td>2019</td>\n",
       "      <td>Dominican Republic</td>\n",
       "      <td>Zorzal, batch 1</td>\n",
       "      <td>0.76</td>\n",
       "      <td>3- B,S,C</td>\n",
       "      <td>cocoa, vegetal, savory</td>\n",
       "      <td>3.50</td>\n",
       "    </tr>\n",
       "    <tr>\n",
       "      <th>2</th>\n",
       "      <td>2454</td>\n",
       "      <td>5150</td>\n",
       "      <td>U.S.A.</td>\n",
       "      <td>2019</td>\n",
       "      <td>Tanzania</td>\n",
       "      <td>Kokoa Kamili, batch 1</td>\n",
       "      <td>0.76</td>\n",
       "      <td>3- B,S,C</td>\n",
       "      <td>rich cocoa, fatty, bready</td>\n",
       "      <td>3.25</td>\n",
       "    </tr>\n",
       "    <tr>\n",
       "      <th>3</th>\n",
       "      <td>2542</td>\n",
       "      <td>5150</td>\n",
       "      <td>U.S.A.</td>\n",
       "      <td>2021</td>\n",
       "      <td>India</td>\n",
       "      <td>Anamalai, batch 1</td>\n",
       "      <td>0.68</td>\n",
       "      <td>3- B,S,C</td>\n",
       "      <td>milk brownie, macadamia,chewy</td>\n",
       "      <td>3.50</td>\n",
       "    </tr>\n",
       "    <tr>\n",
       "      <th>4</th>\n",
       "      <td>2546</td>\n",
       "      <td>5150</td>\n",
       "      <td>U.S.A.</td>\n",
       "      <td>2021</td>\n",
       "      <td>Uganda</td>\n",
       "      <td>Semuliki Forest, batch 1</td>\n",
       "      <td>0.80</td>\n",
       "      <td>3- B,S,C</td>\n",
       "      <td>mildly bitter, basic cocoa, fatty</td>\n",
       "      <td>3.25</td>\n",
       "    </tr>\n",
       "  </tbody>\n",
       "</table>\n",
       "</div>"
      ],
      "text/plain": [
       "    REF Company (Manufacturer) Company Location  Review Date  \\\n",
       "0  2454                   5150           U.S.A.         2019   \n",
       "1  2458                   5150           U.S.A.         2019   \n",
       "2  2454                   5150           U.S.A.         2019   \n",
       "3  2542                   5150           U.S.A.         2021   \n",
       "4  2546                   5150           U.S.A.         2021   \n",
       "\n",
       "  Country of Bean Origin Specific Bean Origin or Bar Name  Cocoa Percent  \\\n",
       "0             Madagascar           Bejofo Estate, batch 1           0.76   \n",
       "1     Dominican Republic                  Zorzal, batch 1           0.76   \n",
       "2               Tanzania            Kokoa Kamili, batch 1           0.76   \n",
       "3                  India                Anamalai, batch 1           0.68   \n",
       "4                 Uganda         Semuliki Forest, batch 1           0.80   \n",
       "\n",
       "  Ingredients     Most Memorable Characteristics  Rating  \n",
       "0    3- B,S,C       cocoa, blackberry, full body    3.75  \n",
       "1    3- B,S,C             cocoa, vegetal, savory    3.50  \n",
       "2    3- B,S,C          rich cocoa, fatty, bready    3.25  \n",
       "3    3- B,S,C      milk brownie, macadamia,chewy    3.50  \n",
       "4    3- B,S,C  mildly bitter, basic cocoa, fatty    3.25  "
      ]
     },
     "execution_count": 69,
     "metadata": {},
     "output_type": "execute_result"
    }
   ],
   "source": [
    "# Convert \"Cocoa Percent\" from string 76% to 0.76\n",
    "df[\"Cocoa Percent\"] = df[\"Cocoa Percent\"].str.replace(\"%\", \"\").astype(float) / 100\n",
    "\n",
    "\n",
    "df.head()\n"
   ]
  },
  {
   "cell_type": "code",
   "execution_count": 70,
   "id": "8f8d9cec",
   "metadata": {},
   "outputs": [
    {
     "name": "stdout",
     "output_type": "stream",
     "text": [
      "Number of Columns Before Step 4: 10\n"
     ]
    }
   ],
   "source": [
    "# Process 'Ingredients'\n",
    "print(\"Number of Columns Before Step 4:\", len(df.columns))"
   ]
  },
  {
   "cell_type": "code",
   "execution_count": 71,
   "id": "ea219a1b",
   "metadata": {},
   "outputs": [
    {
     "name": "stdout",
     "output_type": "stream",
     "text": [
      "DataFrame Head After Step 4:\n",
      "    REF Company (Manufacturer) Company Location  Review Date  \\\n",
      "0  2454                   5150           U.S.A.         2019   \n",
      "1  2458                   5150           U.S.A.         2019   \n",
      "2  2454                   5150           U.S.A.         2019   \n",
      "3  2542                   5150           U.S.A.         2021   \n",
      "4  2546                   5150           U.S.A.         2021   \n",
      "\n",
      "  Country of Bean Origin Specific Bean Origin or Bar Name  Cocoa Percent  \\\n",
      "0             Madagascar           Bejofo Estate, batch 1           0.76   \n",
      "1     Dominican Republic                  Zorzal, batch 1           0.76   \n",
      "2               Tanzania            Kokoa Kamili, batch 1           0.76   \n",
      "3                  India                Anamalai, batch 1           0.68   \n",
      "4                 Uganda         Semuliki Forest, batch 1           0.80   \n",
      "\n",
      "  Ingredients     Most Memorable Characteristics  Rating  B  C  L  S  S*  Sa  \\\n",
      "0    3- B,S,C       cocoa, blackberry, full body    3.75  1  1  0  1   0   0   \n",
      "1    3- B,S,C             cocoa, vegetal, savory    3.50  1  1  0  1   0   0   \n",
      "2    3- B,S,C          rich cocoa, fatty, bready    3.25  1  1  0  1   0   0   \n",
      "3    3- B,S,C      milk brownie, macadamia,chewy    3.50  1  1  0  1   0   0   \n",
      "4    3- B,S,C  mildly bitter, basic cocoa, fatty    3.25  1  1  0  1   0   0   \n",
      "\n",
      "   V  ingredient_count  \n",
      "0  0                 3  \n",
      "1  0                 3  \n",
      "2  0                 3  \n",
      "3  0                 3  \n",
      "4  0                 3  \n",
      "\n",
      "Number of Columns After Step 4: 18\n"
     ]
    }
   ],
   "source": [
    "ingredient_columns = ['B', 'C', 'L', 'S', 'S*', 'Sa', 'V']\n",
    "def split_ingredients(ingredient_str):\n",
    "    if pd.isna(ingredient_str):\n",
    "        return [0] * len(ingredient_columns) + [0]\n",
    "    parts = ingredient_str.split('- ')\n",
    "    count = int(parts[0]) if parts[0].isdigit() else 0\n",
    "    ingredients = set(map(str.strip, parts[1].split(','))) if len(parts) > 1 else set()\n",
    "    return [1 if col in ingredients else 0 for col in ingredient_columns] + [count]\n",
    "\n",
    "ingredients_df = df[\"Ingredients\"].apply(split_ingredients).apply(pd.Series)\n",
    "ingredients_df.columns = ingredient_columns + [\"ingredient_count\"]\n",
    "ingredients_df = ingredients_df.astype(int)\n",
    "df = pd.concat([df, ingredients_df], axis=1)\n",
    "\n",
    "# Display dataframe head and column count after Step 4\n",
    "print(\"DataFrame Head After Step 4:\")\n",
    "print(df.head())\n",
    "print(\"\\nNumber of Columns After Step 4:\", len(df.columns))\n"
   ]
  },
  {
   "cell_type": "code",
   "execution_count": 72,
   "id": "7d2f8082",
   "metadata": {},
   "outputs": [
    {
     "name": "stdout",
     "output_type": "stream",
     "text": [
      "\n",
      "Number of 'Most Memorable Characteristics' Columns Being Added: 71\n",
      "Columns Being Added: ['sweet', 'nutty', 'cocoa', 'roasty', 'earthy', 'creamy', 'fatty', 'sandy', 'floral', 'sour', 'spicy', 'intense', 'fruit', 'molasses', 'woody', 'vanilla', 'sticky', 'dried fruit', 'rich', 'coffee', 'tart', 'grassy', 'caramel', 'bitter', 'spice', 'gritty', 'dry', 'fruity', 'rich cocoa', 'dairy', 'oily', 'brownie', 'complex', 'banana', 'acidic', 'smokey', 'pungent', 'astringent', 'off', 'cherry', 'vegetal', 'tobacco', 'honey', 'smoke', 'metallic', 'nut', 'melon', 'mild fruit', 'rubbery', 'dirty', 'smooth', 'hammy', 'mild bitter', 'strawberry', 'off notes', 'bold', 'red berry', 'coarse', 'muted', 'burnt', 'citrus', 'rubber', 'basic cocoa', 'black pepper', 'marshmallow', 'green', 'chemical', 'bland', 'tangy', 'nuts', 'raisins']\n"
     ]
    }
   ],
   "source": [
    "# Process 'Most Memorable Characteristics'\n",
    "characteristics = df[\"Most Memorable Characteristics\"].str.get_dummies(sep=\", \")\n",
    "char_counts = characteristics.sum().sort_values(ascending=False)\n",
    "common_chars = char_counts.head(71).index.tolist()  # Ensure exactly 71 columns are selected\n",
    "print(\"\\nNumber of 'Most Memorable Characteristics' Columns Being Added:\", len(common_chars))\n",
    "print(\"Columns Being Added:\", common_chars)"
   ]
  },
  {
   "cell_type": "code",
   "execution_count": 73,
   "id": "28751101",
   "metadata": {},
   "outputs": [],
   "source": [
    "# Ensure only 71 unique columns are added and prevent duplication\n",
    "characteristics = characteristics[common_chars]\n",
    "characteristics = characteristics.loc[:, ~characteristics.columns.duplicated()]\n",
    "df = pd.concat([df, characteristics], axis=1)\n"
   ]
  },
  {
   "cell_type": "code",
   "execution_count": 74,
   "id": "eb875d08",
   "metadata": {},
   "outputs": [],
   "source": [
    "#  Final Cleanup\n",
    "df.drop(columns=[\"Ingredients\", \"Most Memorable Characteristics\"], inplace=True, errors='ignore')"
   ]
  },
  {
   "cell_type": "code",
   "execution_count": 75,
   "id": "b803741c",
   "metadata": {},
   "outputs": [
    {
     "name": "stdout",
     "output_type": "stream",
     "text": [
      "\n",
      "Extra Column Detected and Removed: ['raisins']\n"
     ]
    }
   ],
   "source": [
    "# Identify and drop the extra column if present\n",
    "if len(df.columns) > 86:\n",
    "    extra_columns = df.columns[86:]\n",
    "    print(\"\\nExtra Column Detected and Removed:\", extra_columns.tolist())\n",
    "    df.drop(columns=extra_columns, inplace=True)\n"
   ]
  },
  {
   "cell_type": "code",
   "execution_count": 76,
   "id": "c0f0180d",
   "metadata": {},
   "outputs": [
    {
     "name": "stdout",
     "output_type": "stream",
     "text": [
      "\n",
      "Expected Number of Columns: 86\n",
      "Actual Number of Columns: 86\n",
      "Column Names: ['REF', 'Company (Manufacturer)', 'Company Location', 'Review Date', 'Country of Bean Origin', 'Specific Bean Origin or Bar Name', 'Cocoa Percent', 'Rating', 'B', 'C', 'L', 'S', 'S*', 'Sa', 'V', 'ingredient_count', 'sweet', 'nutty', 'cocoa', 'roasty', 'earthy', 'creamy', 'fatty', 'sandy', 'floral', 'sour', 'spicy', 'intense', 'fruit', 'molasses', 'woody', 'vanilla', 'sticky', 'dried fruit', 'rich', 'coffee', 'tart', 'grassy', 'caramel', 'bitter', 'spice', 'gritty', 'dry', 'fruity', 'rich cocoa', 'dairy', 'oily', 'brownie', 'complex', 'banana', 'acidic', 'smokey', 'pungent', 'astringent', 'off', 'cherry', 'vegetal', 'tobacco', 'honey', 'smoke', 'metallic', 'nut', 'melon', 'mild fruit', 'rubbery', 'dirty', 'smooth', 'hammy', 'mild bitter', 'strawberry', 'off notes', 'bold', 'red berry', 'coarse', 'muted', 'burnt', 'citrus', 'rubber', 'basic cocoa', 'black pepper', 'marshmallow', 'green', 'chemical', 'bland', 'tangy', 'nuts']\n"
     ]
    }
   ],
   "source": [
    "#  Verifying Final Column Count\n",
    "print(\"\\nExpected Number of Columns: 86\")\n",
    "print(\"Actual Number of Columns:\", len(df.columns))\n",
    "print(\"Column Names:\", df.columns.tolist())"
   ]
  },
  {
   "cell_type": "code",
   "execution_count": 77,
   "id": "5e90c169",
   "metadata": {},
   "outputs": [],
   "source": [
    "# Saving the cleaned data\n",
    "df.to_csv(\"data/cleaned_data_2025_flavors_of_cacao.csv\", index=False)\n"
   ]
  },
  {
   "cell_type": "code",
   "execution_count": 78,
   "id": "8b8c3d8b",
   "metadata": {},
   "outputs": [
    {
     "name": "stdout",
     "output_type": "stream",
     "text": [
      "Data cleaning complete! Saved as 'data/cleaned_data_2025_flavors_of_cacao.csv'.\n"
     ]
    }
   ],
   "source": [
    "# Displaying final confirmation\n",
    "print(\"Data cleaning complete! Saved as 'data/cleaned_data_2025_flavors_of_cacao.csv'.\")"
   ]
  },
  {
   "cell_type": "code",
   "execution_count": 80,
   "id": "8bbf7bd1",
   "metadata": {},
   "outputs": [],
   "source": [
    "# Extracting and save reduced dataset\n",
    "columns_to_keep = [\"Review Date\", \"Country of Bean Origin\", \"Cocoa Percent\", \"Rating\"]\n",
    "df_reduced = df[columns_to_keep]\n",
    "df_reduced.to_csv(\"data/data_reduced_2025_flavors_of_cacao.csv\", index=False)\n",
    "df_reduced.to_json(\"data/data_reduced_2025_flavors_of_cacao.json\", orient=\"records\")"
   ]
  },
  {
   "cell_type": "code",
   "execution_count": 82,
   "id": "7921efa5",
   "metadata": {},
   "outputs": [],
   "source": [
    "# Filtering data based on conditions\n",
    "filtered_df = df[\n",
    "    (df[\"Rating\"] >= 3.25) &\n",
    "    (df[\"Cocoa Percent\"] >= 0.65) & (df[\"Cocoa Percent\"] <= 0.75) &\n",
    "    (df[\"Review Date\"] >= 2018) & (df[\"Review Date\"] <= 2021) &\n",
    "    ((df[\"fatty\"] == 1) | (df[\"earthy\"] == 1) | (df[\"roasty\"] == 1))\n",
    "]\n"
   ]
  },
  {
   "cell_type": "code",
   "execution_count": 83,
   "id": "bc9693e1",
   "metadata": {},
   "outputs": [],
   "source": [
    "# Saving the filtered dataset\n",
    "filtered_df.to_csv(\"data/data_filtered_2025_flavors_of_cacao.csv\", index=False)\n",
    "filtered_df.to_json(\"data/data_filtered_2025_flavors_of_cacao.json\", orient=\"records\")"
   ]
  },
  {
   "cell_type": "code",
   "execution_count": 84,
   "id": "07320176",
   "metadata": {},
   "outputs": [
    {
     "name": "stdout",
     "output_type": "stream",
     "text": [
      "Data extraction, transformation, and export complete!\n"
     ]
    }
   ],
   "source": [
    "# Step 13: Display final confirmation\n",
    "print(\"Data extraction, transformation, and export complete!\")"
   ]
  },
  {
   "cell_type": "code",
   "execution_count": null,
   "id": "c0f711a3",
   "metadata": {},
   "outputs": [],
   "source": []
  }
 ],
 "metadata": {
  "kernelspec": {
   "display_name": "Python 3 (ipykernel)",
   "language": "python",
   "name": "python3"
  },
  "language_info": {
   "codemirror_mode": {
    "name": "ipython",
    "version": 3
   },
   "file_extension": ".py",
   "mimetype": "text/x-python",
   "name": "python",
   "nbconvert_exporter": "python",
   "pygments_lexer": "ipython3",
   "version": "3.11.4"
  }
 },
 "nbformat": 4,
 "nbformat_minor": 5
}
